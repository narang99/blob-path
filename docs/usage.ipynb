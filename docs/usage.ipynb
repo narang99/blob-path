{
 "cells": [
  {
   "cell_type": "code",
   "execution_count": 1,
   "metadata": {},
   "outputs": [],
   "source": [
    "%load_ext autoreload\n",
    "%autoreload 2"
   ]
  },
  {
   "cell_type": "markdown",
   "metadata": {},
   "source": [
    "The central data structure provided by the library is the `BlobPath` type  \n",
    "This type would abstract away the internals of how the file is stored and works in a cloud agnostic manner  \n",
    "\n",
    "Lets initialise an `S3BlobPath`, which handles storage to AWS S3. Before that, you need to define `IMPLICIT_BLOB_PATH_TMPDIR` in your environment variable, this is the location of the tmpdir used by `blob-store`, which is required for most operations"
   ]
  },
  {
   "cell_type": "code",
   "execution_count": 2,
   "metadata": {},
   "outputs": [],
   "source": [
    "import os\n",
    "\n",
    "os.environ[\"IMPLICIT_BLOB_PATH_TMPDIR\"] = \"/tmp\""
   ]
  },
  {
   "cell_type": "code",
   "execution_count": 3,
   "metadata": {},
   "outputs": [
    {
     "name": "stdout",
     "output_type": "stream",
     "text": [
      "Collecting blob-path==0.1.1\n",
      "  Downloading blob_path-0.1.1-py3-none-any.whl.metadata (2.2 kB)\n",
      "Collecting pydantic>=2.10.1 (from blob-path==0.1.1)\n",
      "  Downloading pydantic-2.10.3-py3-none-any.whl.metadata (172 kB)\n",
      "Requirement already satisfied: typing-extensions>=4.12.2 in /Users/hariomnarang/miniconda3/envs/ht/lib/python3.12/site-packages (from blob-path==0.1.1) (4.12.2)\n",
      "Collecting annotated-types>=0.6.0 (from pydantic>=2.10.1->blob-path==0.1.1)\n",
      "  Downloading annotated_types-0.7.0-py3-none-any.whl.metadata (15 kB)\n",
      "Collecting pydantic-core==2.27.1 (from pydantic>=2.10.1->blob-path==0.1.1)\n",
      "  Downloading pydantic_core-2.27.1-cp312-cp312-macosx_11_0_arm64.whl.metadata (6.6 kB)\n",
      "Downloading blob_path-0.1.1-py3-none-any.whl (18 kB)\n",
      "Downloading pydantic-2.10.3-py3-none-any.whl (456 kB)\n",
      "Downloading pydantic_core-2.27.1-cp312-cp312-macosx_11_0_arm64.whl (1.8 MB)\n",
      "\u001b[2K   \u001b[38;2;114;156;31m━━━━━━━━━━━━━━━━━━━━━━━━━━━━━━━━━━━━━━━━\u001b[0m \u001b[32m1.8/1.8 MB\u001b[0m \u001b[31m3.7 MB/s\u001b[0m eta \u001b[36m0:00:00\u001b[0m[31m3.9 MB/s\u001b[0m eta \u001b[36m0:00:01\u001b[0m\n",
      "\u001b[?25hDownloading annotated_types-0.7.0-py3-none-any.whl (13 kB)\n",
      "Installing collected packages: pydantic-core, annotated-types, pydantic, blob-path\n",
      "Successfully installed annotated-types-0.7.0 blob-path-0.1.1 pydantic-2.10.3 pydantic-core-2.27.1\n"
     ]
    }
   ],
   "source": [
    "! pip install blob-path==0.1.1"
   ]
  },
  {
   "cell_type": "code",
   "execution_count": 5,
   "metadata": {},
   "outputs": [
    {
     "name": "stdout",
     "output_type": "stream",
     "text": [
      "Requirement already satisfied: blob-path[aws] in /Users/hariomnarang/miniconda3/envs/ht/lib/python3.12/site-packages (0.1.1)\n",
      "Requirement already satisfied: pydantic>=2.10.1 in /Users/hariomnarang/miniconda3/envs/ht/lib/python3.12/site-packages (from blob-path[aws]) (2.10.3)\n",
      "Requirement already satisfied: typing-extensions>=4.12.2 in /Users/hariomnarang/miniconda3/envs/ht/lib/python3.12/site-packages (from blob-path[aws]) (4.12.2)\n",
      "Collecting boto3>=1.35.68 (from blob-path[aws])\n",
      "  Downloading boto3-1.35.76-py3-none-any.whl.metadata (6.7 kB)\n",
      "Collecting botocore<1.36.0,>=1.35.76 (from boto3>=1.35.68->blob-path[aws])\n",
      "  Downloading botocore-1.35.76-py3-none-any.whl.metadata (5.7 kB)\n",
      "Collecting jmespath<2.0.0,>=0.7.1 (from boto3>=1.35.68->blob-path[aws])\n",
      "  Downloading jmespath-1.0.1-py3-none-any.whl.metadata (7.6 kB)\n",
      "Collecting s3transfer<0.11.0,>=0.10.0 (from boto3>=1.35.68->blob-path[aws])\n",
      "  Downloading s3transfer-0.10.4-py3-none-any.whl.metadata (1.7 kB)\n",
      "Requirement already satisfied: annotated-types>=0.6.0 in /Users/hariomnarang/miniconda3/envs/ht/lib/python3.12/site-packages (from pydantic>=2.10.1->blob-path[aws]) (0.7.0)\n",
      "Requirement already satisfied: pydantic-core==2.27.1 in /Users/hariomnarang/miniconda3/envs/ht/lib/python3.12/site-packages (from pydantic>=2.10.1->blob-path[aws]) (2.27.1)\n",
      "Requirement already satisfied: python-dateutil<3.0.0,>=2.1 in /Users/hariomnarang/miniconda3/envs/ht/lib/python3.12/site-packages (from botocore<1.36.0,>=1.35.76->boto3>=1.35.68->blob-path[aws]) (2.9.0.post0)\n",
      "Collecting urllib3!=2.2.0,<3,>=1.25.4 (from botocore<1.36.0,>=1.35.76->boto3>=1.35.68->blob-path[aws])\n",
      "  Using cached urllib3-2.2.3-py3-none-any.whl.metadata (6.5 kB)\n",
      "Requirement already satisfied: six>=1.5 in /Users/hariomnarang/miniconda3/envs/ht/lib/python3.12/site-packages (from python-dateutil<3.0.0,>=2.1->botocore<1.36.0,>=1.35.76->boto3>=1.35.68->blob-path[aws]) (1.17.0)\n",
      "Downloading boto3-1.35.76-py3-none-any.whl (139 kB)\n",
      "Downloading botocore-1.35.76-py3-none-any.whl (13.2 MB)\n",
      "\u001b[2K   \u001b[38;2;114;156;31m━━━━━━━━━━━━━━━━━━━━━━━━━━━━━━━━━━━━━━━━\u001b[0m \u001b[32m13.2/13.2 MB\u001b[0m \u001b[31m3.9 MB/s\u001b[0m eta \u001b[36m0:00:00\u001b[0m[31m3.9 MB/s\u001b[0m eta \u001b[36m0:00:01\u001b[0m\n",
      "\u001b[?25hDownloading jmespath-1.0.1-py3-none-any.whl (20 kB)\n",
      "Downloading s3transfer-0.10.4-py3-none-any.whl (83 kB)\n",
      "Using cached urllib3-2.2.3-py3-none-any.whl (126 kB)\n",
      "Installing collected packages: urllib3, jmespath, botocore, s3transfer, boto3\n",
      "Successfully installed boto3-1.35.76 botocore-1.35.76 jmespath-1.0.1 s3transfer-0.10.4 urllib3-2.2.3\n"
     ]
    }
   ],
   "source": [
    "! pip install 'blob-path[aws]'"
   ]
  },
  {
   "cell_type": "code",
   "execution_count": 6,
   "metadata": {},
   "outputs": [],
   "source": [
    "from blob_path.backends.s3 import S3BlobPath\n",
    "\n",
    "bucket_name = \"narang-public-s3\"\n",
    "object_key = \"hello_world.txt\"\n",
    "region = \"us-east-1\"\n",
    "blob_path = S3BlobPath(bucket_name, region, object_key)"
   ]
  },
  {
   "cell_type": "markdown",
   "metadata": {},
   "source": [
    "The blob path is simply a path representation, like `pathlib.Path`, its not required that the file should exist or not  \n",
    "You can check for existence using `exists`"
   ]
  },
  {
   "cell_type": "code",
   "execution_count": 7,
   "metadata": {},
   "outputs": [
    {
     "ename": "RecursionError",
     "evalue": "maximum recursion depth exceeded",
     "output_type": "error",
     "traceback": [
      "\u001b[0;31m---------------------------------------------------------------------------\u001b[0m",
      "\u001b[0;31mRecursionError\u001b[0m                            Traceback (most recent call last)",
      "Cell \u001b[0;32mIn[7], line 1\u001b[0m\n\u001b[0;32m----> 1\u001b[0m \u001b[43mblob_path\u001b[49m\u001b[38;5;241;43m.\u001b[39;49m\u001b[43mexists\u001b[49m\u001b[43m(\u001b[49m\u001b[43m)\u001b[49m\n",
      "File \u001b[0;32m~/miniconda3/envs/ht/lib/python3.12/site-packages/blob_path/backends/s3.py:120\u001b[0m, in \u001b[0;36mS3BlobPath.exists\u001b[0;34m(self)\u001b[0m\n\u001b[1;32m    114\u001b[0m \u001b[38;5;250m\u001b[39m\u001b[38;5;124;03m\"\"\"check if the path point to a valid existing object in S3.\u001b[39;00m\n\u001b[1;32m    115\u001b[0m \n\u001b[1;32m    116\u001b[0m \u001b[38;5;124;03mReturns:  \u001b[39;00m\n\u001b[1;32m    117\u001b[0m \u001b[38;5;124;03m    A boolean representing whether the file exists or not  \u001b[39;00m\n\u001b[1;32m    118\u001b[0m \u001b[38;5;124;03m\"\"\"\u001b[39;00m\n\u001b[1;32m    119\u001b[0m \u001b[38;5;28;01mtry\u001b[39;00m:\n\u001b[0;32m--> 120\u001b[0m     \u001b[38;5;28;43mself\u001b[39;49m\u001b[38;5;241;43m.\u001b[39;49m\u001b[43m_head_object\u001b[49m\u001b[43m(\u001b[49m\u001b[43m)\u001b[49m\n\u001b[1;32m    121\u001b[0m     \u001b[38;5;28;01mreturn\u001b[39;00m \u001b[38;5;28;01mTrue\u001b[39;00m\n\u001b[1;32m    122\u001b[0m \u001b[38;5;28;01mexcept\u001b[39;00m DoesNotExist:\n",
      "File \u001b[0;32m~/miniconda3/envs/ht/lib/python3.12/site-packages/blob_path/backends/s3.py:128\u001b[0m, in \u001b[0;36mS3BlobPath._head_object\u001b[0;34m(self)\u001b[0m\n\u001b[1;32m    126\u001b[0m \u001b[38;5;28;01mtry\u001b[39;00m:\n\u001b[1;32m    127\u001b[0m     client \u001b[38;5;241m=\u001b[39m \u001b[38;5;28mself\u001b[39m\u001b[38;5;241m.\u001b[39m_s3_client()\n\u001b[0;32m--> 128\u001b[0m     \u001b[38;5;28;01mreturn\u001b[39;00m client\u001b[38;5;241m.\u001b[39mhead_object(Bucket\u001b[38;5;241m=\u001b[39m\u001b[38;5;28mself\u001b[39m\u001b[38;5;241m.\u001b[39mbucket, Key\u001b[38;5;241m=\u001b[39m\u001b[38;5;28;43mself\u001b[39;49m\u001b[38;5;241;43m.\u001b[39;49m\u001b[43m_s3_object_key\u001b[49m\u001b[43m(\u001b[49m\u001b[43m)\u001b[49m)\n\u001b[1;32m    129\u001b[0m \u001b[38;5;28;01mexcept\u001b[39;00m botocore\u001b[38;5;241m.\u001b[39mexceptions\u001b[38;5;241m.\u001b[39mClientError \u001b[38;5;28;01mas\u001b[39;00m ex:\n\u001b[1;32m    130\u001b[0m     \u001b[38;5;28;01mif\u001b[39;00m \u001b[38;5;124m\"\u001b[39m\u001b[38;5;124mError\u001b[39m\u001b[38;5;124m\"\u001b[39m \u001b[38;5;129;01mnot\u001b[39;00m \u001b[38;5;129;01min\u001b[39;00m ex\u001b[38;5;241m.\u001b[39mresponse \u001b[38;5;129;01mor\u001b[39;00m \u001b[38;5;124m\"\u001b[39m\u001b[38;5;124mCode\u001b[39m\u001b[38;5;124m\"\u001b[39m \u001b[38;5;129;01mnot\u001b[39;00m \u001b[38;5;129;01min\u001b[39;00m ex\u001b[38;5;241m.\u001b[39mresponse[\u001b[38;5;124m\"\u001b[39m\u001b[38;5;124mError\u001b[39m\u001b[38;5;124m\"\u001b[39m]:\n",
      "File \u001b[0;32m~/miniconda3/envs/ht/lib/python3.12/site-packages/blob_path/backends/s3.py:103\u001b[0m, in \u001b[0;36mS3BlobPath._s3_object_key\u001b[0;34m(self)\u001b[0m\n\u001b[1;32m    102\u001b[0m \u001b[38;5;28;01mdef\u001b[39;00m \u001b[38;5;21m_s3_object_key\u001b[39m(\u001b[38;5;28mself\u001b[39m) \u001b[38;5;241m-\u001b[39m\u001b[38;5;241m>\u001b[39m \u001b[38;5;28mstr\u001b[39m:\n\u001b[0;32m--> 103\u001b[0m     \u001b[38;5;28;01mreturn\u001b[39;00m \u001b[38;5;124m\"\u001b[39m\u001b[38;5;124m/\u001b[39m\u001b[38;5;124m\"\u001b[39m\u001b[38;5;241m.\u001b[39mjoin(\u001b[38;5;28;43mself\u001b[39;49m\u001b[38;5;241;43m.\u001b[39;49m\u001b[43mobject_key\u001b[49m\u001b[38;5;241m.\u001b[39mparts)\n",
      "File \u001b[0;32m~/miniconda3/envs/ht/lib/python3.12/site-packages/blob_path/backends/s3.py:100\u001b[0m, in \u001b[0;36mS3BlobPath.object_key\u001b[0;34m(self)\u001b[0m\n\u001b[1;32m     97\u001b[0m \u001b[38;5;129m@property\u001b[39m\n\u001b[1;32m     98\u001b[0m \u001b[38;5;28;01mdef\u001b[39;00m \u001b[38;5;21mobject_key\u001b[39m(\u001b[38;5;28mself\u001b[39m) \u001b[38;5;241m-\u001b[39m\u001b[38;5;241m>\u001b[39m PurePath:\n\u001b[1;32m     99\u001b[0m     \u001b[38;5;124m\"\u001b[39m\u001b[38;5;124mobject_key getter, useful while extending this class\u001b[39m\u001b[38;5;124m\"\u001b[39m\n\u001b[0;32m--> 100\u001b[0m     \u001b[38;5;28;01mreturn\u001b[39;00m \u001b[38;5;28;43mself\u001b[39;49m\u001b[38;5;241;43m.\u001b[39;49m\u001b[43mobject_key\u001b[49m\n",
      "File \u001b[0;32m~/miniconda3/envs/ht/lib/python3.12/site-packages/blob_path/backends/s3.py:100\u001b[0m, in \u001b[0;36mS3BlobPath.object_key\u001b[0;34m(self)\u001b[0m\n\u001b[1;32m     97\u001b[0m \u001b[38;5;129m@property\u001b[39m\n\u001b[1;32m     98\u001b[0m \u001b[38;5;28;01mdef\u001b[39;00m \u001b[38;5;21mobject_key\u001b[39m(\u001b[38;5;28mself\u001b[39m) \u001b[38;5;241m-\u001b[39m\u001b[38;5;241m>\u001b[39m PurePath:\n\u001b[1;32m     99\u001b[0m     \u001b[38;5;124m\"\u001b[39m\u001b[38;5;124mobject_key getter, useful while extending this class\u001b[39m\u001b[38;5;124m\"\u001b[39m\n\u001b[0;32m--> 100\u001b[0m     \u001b[38;5;28;01mreturn\u001b[39;00m \u001b[38;5;28;43mself\u001b[39;49m\u001b[38;5;241;43m.\u001b[39;49m\u001b[43mobject_key\u001b[49m\n",
      "    \u001b[0;31m[... skipping similar frames: S3BlobPath.object_key at line 100 (2971 times)]\u001b[0m\n",
      "File \u001b[0;32m~/miniconda3/envs/ht/lib/python3.12/site-packages/blob_path/backends/s3.py:100\u001b[0m, in \u001b[0;36mS3BlobPath.object_key\u001b[0;34m(self)\u001b[0m\n\u001b[1;32m     97\u001b[0m \u001b[38;5;129m@property\u001b[39m\n\u001b[1;32m     98\u001b[0m \u001b[38;5;28;01mdef\u001b[39;00m \u001b[38;5;21mobject_key\u001b[39m(\u001b[38;5;28mself\u001b[39m) \u001b[38;5;241m-\u001b[39m\u001b[38;5;241m>\u001b[39m PurePath:\n\u001b[1;32m     99\u001b[0m     \u001b[38;5;124m\"\u001b[39m\u001b[38;5;124mobject_key getter, useful while extending this class\u001b[39m\u001b[38;5;124m\"\u001b[39m\n\u001b[0;32m--> 100\u001b[0m     \u001b[38;5;28;01mreturn\u001b[39;00m \u001b[38;5;28;43mself\u001b[39;49m\u001b[38;5;241;43m.\u001b[39;49m\u001b[43mobject_key\u001b[49m\n",
      "\u001b[0;31mRecursionError\u001b[0m: maximum recursion depth exceeded"
     ]
    }
   ],
   "source": [
    "blob_path.exists()"
   ]
  },
  {
   "cell_type": "markdown",
   "metadata": {},
   "source": [
    "The main method that `BlobPath` provides is `open`, it mimicks the builtin `open` function to some extent  \n",
    "This method is the central abstraction, many operations are handled in a generic way using this method\n",
    "\n",
    "Lets write something to the object in our bucket"
   ]
  },
  {
   "cell_type": "code",
   "execution_count": 5,
   "metadata": {},
   "outputs": [
    {
     "data": {
      "text/plain": [
       "True"
      ]
     },
     "execution_count": 5,
     "metadata": {},
     "output_type": "execute_result"
    }
   ],
   "source": [
    "with blob_path.open(\"w\") as f:\n",
    "    f.write(\"hello world\")\n",
    "\n",
    "# the file would exist in S3 now, you should check it out\n",
    "blob_path.exists()"
   ]
  },
  {
   "cell_type": "markdown",
   "metadata": {},
   "source": [
    "S3 and other cloud storage blob paths can be fully serialised and deserialised.  \n",
    "You can pass around these path objects across processes (and servers) and easily locate the file"
   ]
  },
  {
   "cell_type": "code",
   "execution_count": 6,
   "metadata": {},
   "outputs": [
    {
     "data": {
      "text/plain": [
       "{'kind': 'blob-store-aws',\n",
       " 'payload': {'bucket': 'narang-public-s3',\n",
       "  'region': 'us-east-1',\n",
       "  'object_key': 'hello_world.txt'}}"
      ]
     },
     "execution_count": 6,
     "metadata": {},
     "output_type": "execute_result"
    }
   ],
   "source": [
    "# a single blob path can be serialised using the method `serialise`\n",
    "blob_path.serialise()"
   ]
  },
  {
   "cell_type": "code",
   "execution_count": null,
   "metadata": {},
   "outputs": [
    {
     "data": {
      "text/plain": [
       "kind=blob-store-aws bucket=narang-public-s3 region=us-east-1 object_key=hello_world.txt"
      ]
     },
     "execution_count": 7,
     "metadata": {},
     "output_type": "execute_result"
    }
   ],
   "source": [
    "# lets deserialise them\n",
    "# deserialise is a separate function and you can pass it any kind of blob path and it would correctly deserialise it\n",
    "\n",
    "from blob_path.deserialise import deserialise\n",
    "\n",
    "deserialised_s3_blob = deserialise(\n",
    "    {\n",
    "        \"kind\": \"blob-store-aws\",\n",
    "        \"payload\": {\n",
    "            \"bucket\": \"narang-public-s3\",\n",
    "            \"region\": \"us-east-1\",\n",
    "            \"object_key\": \"hello_world.txt\",\n",
    "        },\n",
    "    }\n",
    ")\n",
    "\n",
    "deserialised_s3_blob"
   ]
  },
  {
   "cell_type": "markdown",
   "metadata": {},
   "source": [
    "Lets try another path backend, the `LocalRelativeBlobPath`, this path models a local FS relative path, which is always rooted at a single root directory  \n",
    "Consider you store all the application files inside a single path \"/tmp/my-apps-files\"  \n",
    "In this case, instead of using `pathlib.Path`, you could use `LocalRelativeBlobPath` (this allows you to easily switch between using a cloud storage or a local storage for your files)  "
   ]
  },
  {
   "cell_type": "code",
   "execution_count": null,
   "metadata": {},
   "outputs": [],
   "source": [
    "from blob_path.backends.local_relative import LocalRelativeBlobPath\n",
    "\n",
    "# PurePath is a simple path representation, but it does not care whether its actually a path or not in your FS\n",
    "# Its useful for logically representing various data structures, as an example, you could represent S3 object keys as `PurePaths`\n",
    "from pathlib import PurePath\n",
    "\n",
    "relpath = PurePath(\"local\") / \"storage.txt\"\n",
    "local_blob = LocalRelativeBlobPath(relpath)"
   ]
  },
  {
   "cell_type": "code",
   "execution_count": 9,
   "metadata": {},
   "outputs": [
    {
     "ename": "Exception",
     "evalue": "tried fetching implicit variable from environment but the var os.environ['IMPLICIT_BLOB_STORE_LOCAL_RELATIVE_BASE_DIR'] does not exist",
     "output_type": "error",
     "traceback": [
      "\u001b[0;31m---------------------------------------------------------------------------\u001b[0m",
      "\u001b[0;31mException\u001b[0m                                 Traceback (most recent call last)",
      "Cell \u001b[0;32mIn[9], line 1\u001b[0m\n\u001b[0;32m----> 1\u001b[0m \u001b[43mlocal_blob\u001b[49m\u001b[38;5;241;43m.\u001b[39;49m\u001b[43mexists\u001b[49m\u001b[43m(\u001b[49m\u001b[43m)\u001b[49m\n",
      "File \u001b[0;32m~/Desktop/personal/blob-store/src/blob_store/backends/local_relative.py:34\u001b[0m, in \u001b[0;36mLocalRelativeBlobPath.exists\u001b[0;34m(self)\u001b[0m\n\u001b[1;32m     33\u001b[0m \u001b[38;5;28;01mdef\u001b[39;00m \u001b[38;5;21mexists\u001b[39m(\u001b[38;5;28mself\u001b[39m) \u001b[38;5;241m-\u001b[39m\u001b[38;5;241m>\u001b[39m \u001b[38;5;28mbool\u001b[39m:\n\u001b[0;32m---> 34\u001b[0m     \u001b[38;5;28;01mreturn\u001b[39;00m (\u001b[38;5;28;43mself\u001b[39;49m\u001b[38;5;241;43m.\u001b[39;49m\u001b[43m_p\u001b[49m\u001b[43m(\u001b[49m\u001b[43m)\u001b[49m)\u001b[38;5;241m.\u001b[39mexists()\n",
      "File \u001b[0;32m~/Desktop/personal/blob-store/src/blob_store/backends/local_relative.py:58\u001b[0m, in \u001b[0;36mLocalRelativeBlobPath._p\u001b[0;34m(self)\u001b[0m\n\u001b[1;32m     57\u001b[0m \u001b[38;5;28;01mdef\u001b[39;00m \u001b[38;5;21m_p\u001b[39m(\u001b[38;5;28mself\u001b[39m) \u001b[38;5;241m-\u001b[39m\u001b[38;5;241m>\u001b[39m Path:\n\u001b[0;32m---> 58\u001b[0m     \u001b[38;5;28;01mreturn\u001b[39;00m \u001b[43m_get_implicit_base_path\u001b[49m\u001b[43m(\u001b[49m\u001b[43m)\u001b[49m \u001b[38;5;241m/\u001b[39m \u001b[38;5;28mself\u001b[39m\u001b[38;5;241m.\u001b[39m_relpath\n",
      "File \u001b[0;32m~/Desktop/personal/blob-store/src/blob_store/backends/local_relative.py:62\u001b[0m, in \u001b[0;36m_get_implicit_base_path\u001b[0;34m()\u001b[0m\n\u001b[1;32m     61\u001b[0m \u001b[38;5;28;01mdef\u001b[39;00m \u001b[38;5;21m_get_implicit_base_path\u001b[39m() \u001b[38;5;241m-\u001b[39m\u001b[38;5;241m>\u001b[39m Path:\n\u001b[0;32m---> 62\u001b[0m     base_path \u001b[38;5;241m=\u001b[39m Path(\u001b[43mget_implicit_var\u001b[49m\u001b[43m(\u001b[49m\u001b[43mBASE_VAR\u001b[49m\u001b[43m)\u001b[49m)\n\u001b[1;32m     63\u001b[0m     base_path\u001b[38;5;241m.\u001b[39mmkdir(exist_ok\u001b[38;5;241m=\u001b[39m\u001b[38;5;28;01mTrue\u001b[39;00m, parents\u001b[38;5;241m=\u001b[39m\u001b[38;5;28;01mTrue\u001b[39;00m)\n\u001b[1;32m     64\u001b[0m     \u001b[38;5;28;01mreturn\u001b[39;00m base_path\n",
      "File \u001b[0;32m~/Desktop/personal/blob-store/src/blob_store/implicit.py:34\u001b[0m, in \u001b[0;36mget_implicit_var\u001b[0;34m(var)\u001b[0m\n\u001b[1;32m     33\u001b[0m \u001b[38;5;28;01mdef\u001b[39;00m \u001b[38;5;21mget_implicit_var\u001b[39m(var: VarName) \u001b[38;5;241m-\u001b[39m\u001b[38;5;241m>\u001b[39m \u001b[38;5;28mstr\u001b[39m:\n\u001b[0;32m---> 34\u001b[0m     \u001b[38;5;28;01mreturn\u001b[39;00m \u001b[43m_PROVIDER\u001b[49m\u001b[43m(\u001b[49m\u001b[43mvar\u001b[49m\u001b[43m)\u001b[49m\n",
      "File \u001b[0;32m~/Desktop/personal/blob-store/src/blob_store/implicit.py:13\u001b[0m, in \u001b[0;36m_default_env_provider\u001b[0;34m(var)\u001b[0m\n\u001b[1;32m     11\u001b[0m \u001b[38;5;28;01mdef\u001b[39;00m \u001b[38;5;21m_default_env_provider\u001b[39m(var: VarName) \u001b[38;5;241m-\u001b[39m\u001b[38;5;241m>\u001b[39m \u001b[38;5;28mstr\u001b[39m:\n\u001b[1;32m     12\u001b[0m     \u001b[38;5;28;01mif\u001b[39;00m var \u001b[38;5;129;01mnot\u001b[39;00m \u001b[38;5;129;01min\u001b[39;00m os\u001b[38;5;241m.\u001b[39menviron:\n\u001b[0;32m---> 13\u001b[0m         \u001b[38;5;28;01mraise\u001b[39;00m \u001b[38;5;167;01mException\u001b[39;00m(\n\u001b[1;32m     14\u001b[0m             \u001b[38;5;124m\"\u001b[39m\u001b[38;5;124mtried fetching implicit variable from environment \u001b[39m\u001b[38;5;124m\"\u001b[39m\n\u001b[1;32m     15\u001b[0m             \u001b[38;5;241m+\u001b[39m \u001b[38;5;124mf\u001b[39m\u001b[38;5;124m\"\u001b[39m\u001b[38;5;124mbut the var os.environ[\u001b[39m\u001b[38;5;124m'\u001b[39m\u001b[38;5;132;01m{\u001b[39;00mvar\u001b[38;5;132;01m}\u001b[39;00m\u001b[38;5;124m'\u001b[39m\u001b[38;5;124m] does not exist\u001b[39m\u001b[38;5;124m\"\u001b[39m\n\u001b[1;32m     16\u001b[0m         )\n\u001b[1;32m     17\u001b[0m     \u001b[38;5;28;01mreturn\u001b[39;00m os\u001b[38;5;241m.\u001b[39menviron[var]\n",
      "\u001b[0;31mException\u001b[0m: tried fetching implicit variable from environment but the var os.environ['IMPLICIT_BLOB_STORE_LOCAL_RELATIVE_BASE_DIR'] does not exist"
     ]
    }
   ],
   "source": [
    "local_blob.exists()"
   ]
  },
  {
   "cell_type": "markdown",
   "metadata": {},
   "source": [
    "Uh oh, we got an error, that too really early ;_;\n",
    "It says that we have not defined `IMPLICIT_BLOB_PATH_LOCAL_RELATIVE_BASE_DIR` in our environment  \n",
    "\n",
    "This environment variable stores the root directory of your relative paths"
   ]
  },
  {
   "cell_type": "code",
   "execution_count": null,
   "metadata": {},
   "outputs": [
    {
     "data": {
      "text/plain": [
       "True"
      ]
     },
     "execution_count": 10,
     "metadata": {},
     "output_type": "execute_result"
    }
   ],
   "source": [
    "from pathlib import Path\n",
    "\n",
    "os.environ[\"IMPLICIT_BLOB_PATH_LOCAL_RELATIVE_BASE_DIR\"] = str(\n",
    "    Path.home() / \"tmp\" / \"local_fs_root\"\n",
    ")\n",
    "\n",
    "# it passes now, and says that the file does not exist\n",
    "local_blob.exists()"
   ]
  },
  {
   "cell_type": "markdown",
   "metadata": {},
   "source": [
    "So why is `LocalRelativeBlobPath` taking the root directory as an environment variable? Could we pass it in `__init__`?  \n",
    "We could argue about this, but then the path is pretty much the same as any absolute path. Even the serialised representation of `LocalRelativeBlobPath` leaves out the root directory (its not part of the path representation)  \n",
    "\n",
    "# Implict variables\n",
    "These variables which modify the behavior of `BlobPath` are called implicit variables. They are by default, picked from the environment  \n",
    "Fetching the root directory from environment has multiple benefits\n",
    "- You could mount the same path between multiple containers at **different** mount points and still pass around the serialised representation correctly (assuming you provide the implicit variables correctly)\n",
    "- Same for servers mounted with an NFS\n",
    "- This also works well for presigned URLs, where you can simply start an nginx server and pass that server's base URL as an implicit variable to the path\n",
    "\n",
    "Implicit variables will change the behavior and location of your blobs implicitly (hah! perfect naming). Every implicit variable follows the naming convention: `IMPLICIT_BLOB_PATH_<BACKEND>_...`  \n",
    "Currently, only `LocalRelativeBlobPath` has implicit variables  "
   ]
  },
  {
   "cell_type": "markdown",
   "metadata": {},
   "source": [
    "Let's do a simple copy operation between an S3 path and a local path"
   ]
  },
  {
   "cell_type": "code",
   "execution_count": 11,
   "metadata": {},
   "outputs": [
    {
     "name": "stdout",
     "output_type": "stream",
     "text": [
      "hello world\n"
     ]
    }
   ],
   "source": [
    "import shutil\n",
    "\n",
    "# the long way\n",
    "with deserialised_s3_blob.open(\"r\") as fr:\n",
    "    with local_blob.open(\"w\") as fw:\n",
    "        shutil.copyfileobj(fr, fw)\n",
    "\n",
    "with local_blob.open(\"r\") as f:\n",
    "    print(f.read())"
   ]
  },
  {
   "cell_type": "markdown",
   "metadata": {},
   "source": [
    "Lets use a shortcut now.  \n",
    "Whenever possible, prefer shortcuts from the library for your operations  \n",
    "Currently, they only provide ease-of-use, but we can later optimise away special cases (like copying between two S3 blobs can be triggered using a remote copy with boto3, without copying data in your local machine)"
   ]
  },
  {
   "cell_type": "code",
   "execution_count": null,
   "metadata": {},
   "outputs": [
    {
     "name": "stdout",
     "output_type": "stream",
     "text": [
      "hello world\n",
      "hello world\n"
     ]
    }
   ],
   "source": [
    "# delete first for the example\n",
    "local_blob.delete()\n",
    "\n",
    "deserialised_s3_blob.cp(local_blob)\n",
    "with local_blob.open(\"r\") as f:\n",
    "    print(f.read())\n",
    "\n",
    "\n",
    "# using a shortcut from the library\n",
    "# this shortcut provides more convenience, any of the `src` or `dest` can be `pathlib.Path` too\n",
    "# this makes it easy to deal with normal paths in your FS\n",
    "from blob_path.shortcuts import copy_blob\n",
    "\n",
    "local_blob.delete()\n",
    "copy_blob(deserialised_s3_blob, local_blob)\n",
    "with local_blob.open(\"r\") as f:\n",
    "    print(f.read())"
   ]
  }
 ],
 "metadata": {
  "kernelspec": {
   "display_name": "ht",
   "language": "python",
   "name": "python3"
  },
  "language_info": {
   "codemirror_mode": {
    "name": "ipython",
    "version": 3
   },
   "file_extension": ".py",
   "mimetype": "text/x-python",
   "name": "python",
   "nbconvert_exporter": "python",
   "pygments_lexer": "ipython3",
   "version": "3.12.7"
  }
 },
 "nbformat": 4,
 "nbformat_minor": 2
}
